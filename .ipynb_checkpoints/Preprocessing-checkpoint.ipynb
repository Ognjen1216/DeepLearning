{
 "cells": [
  {
   "cell_type": "code",
   "execution_count": 1,
   "metadata": {
    "colab": {
     "base_uri": "https://localhost:8080/",
     "height": 55
    },
    "colab_type": "code",
    "executionInfo": {
     "elapsed": 532,
     "status": "ok",
     "timestamp": 1542566094927,
     "user": {
      "displayName": "Arnau Sanromà",
      "photoUrl": "",
      "userId": "11963550652563854723"
     },
     "user_tz": -60
    },
    "id": "6ukCqV3gRgun",
    "outputId": "ec2f8864-4d45-4642-bd05-a56d5b402b66"
   },
   "outputs": [],
   "source": [
    "import numpy as np\n",
    "import os\n",
    "from datetime import datetime"
   ]
  },
  {
   "cell_type": "code",
   "execution_count": 2,
   "metadata": {
    "colab": {},
    "colab_type": "code",
    "id": "pTh-avESRgut"
   },
   "outputs": [],
   "source": [
    "# Making a Dictonary of all the movies \n",
    "user_seqs = dict()\n",
    "with open(\"movie_titles.txt\") as f:\n",
    "    lines = f.readlines()\n",
    "    movie_dict = {','.join(lines[i].split(',')[2:]).strip():i for i in range(len(lines))}"
   ]
  },
  {
   "cell_type": "code",
   "execution_count": 3,
   "metadata": {
    "colab": {
     "base_uri": "https://localhost:8080/",
     "height": 35
    },
    "colab_type": "code",
    "id": "yC3OmQmYRguy",
    "outputId": "967b5304-4579-463c-abb5-9883935d29af"
   },
   "outputs": [
    {
     "name": "stdout",
     "output_type": "stream",
     "text": [
      "1000 movies\n",
      "2000 movies\n",
      "3000 movies\n",
      "4000 movies\n",
      "5000 movies\n",
      "6000 movies\n",
      "7000 movies\n",
      "8000 movies\n",
      "9000 movies\n",
      "10000 movies\n",
      "11000 movies\n",
      "12000 movies\n",
      "13000 movies\n",
      "14000 movies\n",
      "15000 movies\n",
      "16000 movies\n",
      "17000 movies\n"
     ]
    }
   ],
   "source": [
    "# going through all the movie files and making them into sequential data for users for only the last 4 months\n",
    "count = 0\n",
    "for movie in os.listdir(r\"training_set\"):\n",
    "    name = ','.join(lines[count].split(',')[2:])\n",
    "    name = name.strip()\n",
    "    count += 1\n",
    "    with open(\"training_set/%s\"%movie,\"r\") as f:\n",
    "        ratings = f.readlines()\n",
    "        for rating in ratings[1:]:\n",
    "            rating = rating.strip()\n",
    "            usr, rate, date = rating.split(\",\")\n",
    "            date = datetime.strptime(date,\"%Y-%m-%d\")\n",
    "            if date > datetime(2005,8,31):\n",
    "                if usr not in user_seqs.keys():\n",
    "                    user_seqs[usr] = []\n",
    "                user_seqs[usr].append((name,rate,date))\n",
    "    if count%1000 == 0:\n",
    "        print(count, \"movies\")"
   ]
  },
  {
   "cell_type": "code",
   "execution_count": 4,
   "metadata": {
    "colab": {},
    "colab_type": "code",
    "id": "R8ZSBRS3Rgu6"
   },
   "outputs": [
    {
     "data": {
      "text/plain": [
       "326668"
      ]
     },
     "execution_count": 4,
     "metadata": {},
     "output_type": "execute_result"
    }
   ],
   "source": [
    "len(user_seqs)"
   ]
  },
  {
   "cell_type": "code",
   "execution_count": 5,
   "metadata": {
    "colab": {},
    "colab_type": "code",
    "id": "CI-dXHezRgu-"
   },
   "outputs": [
    {
     "name": "stdout",
     "output_type": "stream",
     "text": [
      "0 users processed\n",
      "10000 users processed\n",
      "20000 users processed\n",
      "30000 users processed\n",
      "40000 users processed\n",
      "50000 users processed\n",
      "60000 users processed\n",
      "70000 users processed\n",
      "80000 users processed\n",
      "90000 users processed\n",
      "100000 users processed\n",
      "110000 users processed\n",
      "120000 users processed\n",
      "130000 users processed\n",
      "140000 users processed\n",
      "150000 users processed\n",
      "160000 users processed\n",
      "170000 users processed\n",
      "180000 users processed\n",
      "190000 users processed\n",
      "200000 users processed\n",
      "210000 users processed\n",
      "220000 users processed\n",
      "230000 users processed\n",
      "240000 users processed\n",
      "250000 users processed\n",
      "260000 users processed\n",
      "270000 users processed\n",
      "280000 users processed\n",
      "290000 users processed\n",
      "300000 users processed\n",
      "310000 users processed\n",
      "320000 users processed\n"
     ]
    }
   ],
   "source": [
    "# Discarding users that have watched less than 20 and more than 300 movies\n",
    "count = 0\n",
    "all_users = list(user_seqs.keys())\n",
    "for key in all_users:\n",
    "    if count%10000 == 0:\n",
    "        print(count,\"users processed\")\n",
    "    count += 1\n",
    "    l = len(user_seqs[key])\n",
    "    if l < 20 or l > 300:\n",
    "        del user_seqs[key]"
   ]
  },
  {
   "cell_type": "code",
   "execution_count": 6,
   "metadata": {},
   "outputs": [
    {
     "name": "stdout",
     "output_type": "stream",
     "text": [
      "154703\n",
      "10657059\n"
     ]
    }
   ],
   "source": [
    "print(len(user_seqs))\n",
    "lens = [len(seq) for seq in user_seqs.values()]\n",
    "print(np.sum(lens))"
   ]
  },
  {
   "cell_type": "code",
   "execution_count": 7,
   "metadata": {
    "colab": {},
    "colab_type": "code",
    "id": "RGfhftwJRgvG"
   },
   "outputs": [
    {
     "name": "stdout",
     "output_type": "stream",
     "text": [
      "10000 users\n",
      "20000 users\n",
      "30000 users\n",
      "40000 users\n",
      "50000 users\n",
      "60000 users\n",
      "70000 users\n",
      "80000 users\n",
      "90000 users\n",
      "100000 users\n",
      "110000 users\n",
      "120000 users\n",
      "130000 users\n",
      "140000 users\n",
      "150000 users\n"
     ]
    }
   ],
   "source": [
    "# Sorting the data into a sequence based on the data when it was rated\n",
    "count = 0\n",
    "for usr,value in user_seqs.items():\n",
    "    user_seqs[usr] = sorted(value,key=lambda x: x[2])\n",
    "    count += 1\n",
    "    if count%10000 == 0:\n",
    "        print(count, \"users\")  \n",
    "\n",
    "total_length = 0\n",
    "for key,value in user_seqs.items():\n",
    "    total_length += len(value)"
   ]
  },
  {
   "cell_type": "code",
   "execution_count": 8,
   "metadata": {
    "colab": {},
    "colab_type": "code",
    "id": "Bn_7AW-gRgvK"
   },
   "outputs": [
    {
     "name": "stdout",
     "output_type": "stream",
     "text": [
      "0 Users in data\n",
      "5000 Users in data\n",
      "10000 Users in data\n",
      "15000 Users in data\n",
      "20000 Users in data\n",
      "25000 Users in data\n",
      "30000 Users in data\n",
      "35000 Users in data\n",
      "40000 Users in data\n",
      "45000 Users in data\n",
      "50000 Users in data\n",
      "55000 Users in data\n",
      "60000 Users in data\n",
      "65000 Users in data\n",
      "70000 Users in data\n",
      "75000 Users in data\n",
      "80000 Users in data\n",
      "85000 Users in data\n",
      "90000 Users in data\n",
      "95000 Users in data\n",
      "100000 Users in data\n",
      "105000 Users in data\n",
      "110000 Users in data\n",
      "115000 Users in data\n",
      "120000 Users in data\n",
      "125000 Users in data\n",
      "130000 Users in data\n",
      "135000 Users in data\n",
      "140000 Users in data\n",
      "145000 Users in data\n",
      "150000 Users in data\n"
     ]
    }
   ],
   "source": [
    "# Storing the data into a dictonary\n",
    "data = np.zeros((total_length-len(user_seqs),3),dtype=int)\n",
    "label = np.zeros(total_length-len(user_seqs),dtype=int)\n",
    "keys = list(user_seqs.keys())\n",
    "values = list(user_seqs.values())\n",
    "idx = 0\n",
    "for j in range(len(user_seqs)):\n",
    "    if j%5000 == 0:\n",
    "        print(j, \"Users in data\")\n",
    "    for i in range(len(values[j])):\n",
    "        movie = movie_dict[values[j][i][0]]\n",
    "        if i != 0:\n",
    "            label[idx-1] = movie\n",
    "        if i != len(values[j])-1:\n",
    "            data[idx,:] = [int(keys[j]),movie,int(values[j][i][1])]\n",
    "            idx += 1"
   ]
  },
  {
   "cell_type": "code",
   "execution_count": 9,
   "metadata": {
    "colab": {},
    "colab_type": "code",
    "id": "w4CdjZ6iRgvU"
   },
   "outputs": [],
   "source": [
    "# Saving data\n",
    "import h5py\n",
    "f = h5py.File(\"L4M_20_dataset.hdf5\",\"w\")\n",
    "with f as hf:\n",
    "    hf.create_dataset(\"data\",data=data)\n",
    "    hf.create_dataset(\"label\",data=label)"
   ]
  }
 ],
 "metadata": {
  "colab": {
   "name": "Untitled.ipynb",
   "provenance": [],
   "version": "0.3.2"
  },
  "kernelspec": {
   "display_name": "Python 3",
   "language": "python",
   "name": "python3"
  },
  "language_info": {
   "codemirror_mode": {
    "name": "ipython",
    "version": 3
   },
   "file_extension": ".py",
   "mimetype": "text/x-python",
   "name": "python",
   "nbconvert_exporter": "python",
   "pygments_lexer": "ipython3",
   "version": "3.6.3"
  }
 },
 "nbformat": 4,
 "nbformat_minor": 1
}
