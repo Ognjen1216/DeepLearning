{
 "cells": [
  {
   "cell_type": "code",
   "execution_count": 2,
   "metadata": {
    "colab": {
     "base_uri": "https://localhost:8080/",
     "height": 326
    },
    "colab_type": "code",
    "executionInfo": {
     "elapsed": 62071,
     "status": "ok",
     "timestamp": 1545154953763,
     "user": {
      "displayName": "Pavol Ďuroška",
      "photoUrl": "",
      "userId": "17498834430391954628"
     },
     "user_tz": -60
    },
    "id": "k-k1u4GyD9G_",
    "outputId": "3af44166-3053-4dd5-8d62-bc47d419b61a"
   },
   "outputs": [
    {
     "name": "stdout",
     "output_type": "stream",
     "text": [
      "Collecting torchvision\n",
      "\u001b[?25l  Downloading https://files.pythonhosted.org/packages/ca/0d/f00b2885711e08bd71242ebe7b96561e6f6d01fdb4b9dcf4d37e2e13c5e1/torchvision-0.2.1-py2.py3-none-any.whl (54kB)\n",
      "\u001b[K    100% |████████████████████████████████| 61kB 2.0MB/s \n",
      "\u001b[?25hCollecting pillow>=4.1.1 (from torchvision)\n",
      "\u001b[?25l  Downloading https://files.pythonhosted.org/packages/62/94/5430ebaa83f91cc7a9f687ff5238e26164a779cca2ef9903232268b0a318/Pillow-5.3.0-cp36-cp36m-manylinux1_x86_64.whl (2.0MB)\n",
      "\u001b[K    100% |████████████████████████████████| 2.0MB 15.6MB/s \n",
      "\u001b[?25hRequirement already satisfied: six in /usr/local/lib/python3.6/dist-packages (from torchvision) (1.11.0)\n",
      "Requirement already satisfied: numpy in /usr/local/lib/python3.6/dist-packages (from torchvision) (1.14.6)\n",
      "Collecting torch (from torchvision)\n",
      "\u001b[?25l  Downloading https://files.pythonhosted.org/packages/7e/60/66415660aa46b23b5e1b72bc762e816736ce8d7260213e22365af51e8f9c/torch-1.0.0-cp36-cp36m-manylinux1_x86_64.whl (591.8MB)\n",
      "\u001b[K    100% |████████████████████████████████| 591.8MB 29kB/s \n",
      "tcmalloc: large alloc 1073750016 bytes == 0x61b30000 @  0x7ffa1ce8a2a4 0x591a07 0x5b5d56 0x502e9a 0x506859 0x502209 0x502f3d 0x506859 0x504c28 0x502540 0x502f3d 0x506859 0x504c28 0x502540 0x502f3d 0x506859 0x504c28 0x502540 0x502f3d 0x507641 0x502209 0x502f3d 0x506859 0x504c28 0x502540 0x502f3d 0x507641 0x504c28 0x502540 0x502f3d 0x507641\n",
      "\u001b[?25hInstalling collected packages: pillow, torch, torchvision\n",
      "  Found existing installation: Pillow 4.0.0\n",
      "    Uninstalling Pillow-4.0.0:\n",
      "      Successfully uninstalled Pillow-4.0.0\n",
      "Successfully installed pillow-5.3.0 torch-1.0.0 torchvision-0.2.1\n"
     ]
    }
   ],
   "source": [
    "#!pip3 install torchvision\n",
    "import numpy as np\n",
    "\n",
    "import torch\n",
    "from torch.autograd import Variable\n",
    "import torch.nn as nn\n",
    "import torch.optim as optim\n",
    "from torch.nn import Linear, RNN, LSTM, GRU\n",
    "from torch.nn.functional import softmax, relu, nll_loss, log_softmax\n",
    "from torch import sigmoid, tanh\n",
    "\n",
    "from sklearn.manifold import TSNE\n",
    "import h5py\n",
    "import matplotlib.pyplot as plt\n",
    "from google.colab import files\n"
   ]
  },
  {
   "cell_type": "code",
   "execution_count": 3,
   "metadata": {
    "colab": {
     "base_uri": "https://localhost:8080/",
     "height": 122
    },
    "colab_type": "code",
    "executionInfo": {
     "elapsed": 93359,
     "status": "ok",
     "timestamp": 1545154986204,
     "user": {
      "displayName": "Pavol Ďuroška",
      "photoUrl": "",
      "userId": "17498834430391954628"
     },
     "user_tz": -60
    },
    "id": "VFZsg0NGEChC",
    "outputId": "d1a0fdd7-28a1-47d4-d375-9069e73e2463"
   },
   "outputs": [
    {
     "name": "stdout",
     "output_type": "stream",
     "text": [
      "Go to this URL in a browser: https://accounts.google.com/o/oauth2/auth?client_id=947318989803-6bn6qk8qdgf4n4g3pfee6491hc0brc4i.apps.googleusercontent.com&redirect_uri=urn%3Aietf%3Awg%3Aoauth%3A2.0%3Aoob&scope=email%20https%3A%2F%2Fwww.googleapis.com%2Fauth%2Fdocs.test%20https%3A%2F%2Fwww.googleapis.com%2Fauth%2Fdrive%20https%3A%2F%2Fwww.googleapis.com%2Fauth%2Fdrive.photos.readonly%20https%3A%2F%2Fwww.googleapis.com%2Fauth%2Fpeopleapi.readonly&response_type=code\n",
      "\n",
      "Enter your authorization code:\n",
      "··········\n",
      "Mounted at /content/drive\n"
     ]
    }
   ],
   "source": [
    "# Accessing google drive\n",
    "from google.colab import drive\n",
    "drive.mount(\"/content/drive\")"
   ]
  },
  {
   "cell_type": "code",
   "execution_count": 4,
   "metadata": {
    "colab": {
     "base_uri": "https://localhost:8080/",
     "height": 34
    },
    "colab_type": "code",
    "executionInfo": {
     "elapsed": 1254,
     "status": "ok",
     "timestamp": 1545155019049,
     "user": {
      "displayName": "Pavol Ďuroška",
      "photoUrl": "",
      "userId": "17498834430391954628"
     },
     "user_tz": -60
    },
    "id": "HXvQdA6CD9HH",
    "outputId": "3beda6eb-ef97-46ce-b092-65e68c56319d"
   },
   "outputs": [
    {
     "name": "stdout",
     "output_type": "stream",
     "text": [
      "True\n"
     ]
    }
   ],
   "source": [
    "use_cuda = torch.cuda.is_available()\n",
    "print(use_cuda)"
   ]
  },
  {
   "cell_type": "code",
   "execution_count": 5,
   "metadata": {
    "colab": {
     "base_uri": "https://localhost:8080/",
     "height": 34
    },
    "colab_type": "code",
    "executionInfo": {
     "elapsed": 7118,
     "status": "ok",
     "timestamp": 1545155025321,
     "user": {
      "displayName": "Pavol Ďuroška",
      "photoUrl": "",
      "userId": "17498834430391954628"
     },
     "user_tz": -60
    },
    "id": "8-0RgCyWD9HP",
    "outputId": "5c3a0f3d-9b20-490f-a079-2b2e3f9156fa"
   },
   "outputs": [
    {
     "name": "stdout",
     "output_type": "stream",
     "text": [
      "/content\n"
     ]
    }
   ],
   "source": [
    "# Load data from google drive, using colab\n",
    "!pwd\n",
    "with h5py.File('/content/drive/My Drive/Colab Notebooks/L4M_dataset.hdf5', 'r') as hf:\n",
    "    data = hf['data'][:]\n",
    "    label = hf['label'][:]"
   ]
  },
  {
   "cell_type": "code",
   "execution_count": 7,
   "metadata": {
    "colab": {
     "base_uri": "https://localhost:8080/",
     "height": 85
    },
    "colab_type": "code",
    "executionInfo": {
     "elapsed": 56401,
     "status": "ok",
     "timestamp": 1545155075676,
     "user": {
      "displayName": "Pavol Ďuroška",
      "photoUrl": "",
      "userId": "17498834430391954628"
     },
     "user_tz": -60
    },
    "id": "H1NyI4ZAD9Hb",
    "outputId": "74c03a42-5e0b-4701-8314-f0b20ba9c05d"
   },
   "outputs": [
    {
     "name": "stdout",
     "output_type": "stream",
     "text": [
      "120443\n",
      "30073\n",
      "120443\n",
      "30073\n"
     ]
    }
   ],
   "source": [
    "seq = [] #Initalize\n",
    "lab = []\n",
    "current_user = -1\n",
    "for i in range(data.shape[0]): # going through the data and sorting into user sequences\n",
    "    if data[i,0]!=current_user:\n",
    "        current_user = data[i,0]\n",
    "        seq.append([data[i,1]])\n",
    "        lab.append([label[i]])        \n",
    "    else:\n",
    "        seq[-1].append(data[i,1]) # new user line\n",
    "        lab[-1].append(label[i])\n",
    "\n",
    "choose_split = 0 #choosing the split that is going to be used, 0 for 1st split, and 1 for the 2nd\n",
    "\n",
    "if choose_split=0:\n",
    "    train_idx = np.random.choice(len(seq),(len(seq)*8)//10,replace = False)\n",
    "    seq_train = [seq[i] for i in train_idx]\n",
    "    seq_test = [seq[i] for i in range(len(seq)) if i not in train_idx]\n",
    "    lab_train = [lab[i] for i in train_idx]\n",
    "    lab_test = [lab[i] for i in range(len(lab)) if i not in train_idx]\n",
    "\n",
    "    seq_train.sort(key=lambda x:len(x))\n",
    "    lab_train.sort(key=lambda x:len(x))\n",
    "    seq_test.sort(key=lambda x:len(x))\n",
    "    lab_test.sort(key=lambda x:len(x))\n",
    "    seq_train = [item for item in seq_train if len(item) > 19]\n",
    "    lab_train = [item for item in lab_train if len(item) > 19]\n",
    "    seq_test = [item for item in seq_test if len(item) > 19]\n",
    "    lab_test = [item for item in lab_test if len(item) > 19]   \n",
    "else:\n",
    "    seq = [item for item in seq if len(item) > 39]\n",
    "    lab = [item for item in lab if len(item) > 39]\n",
    "\n",
    "    seq_train = [item[:-20] for item in seq]\n",
    "    seq_test = [item[-20:] for item in seq]\n",
    "    lab_train = [item[:-20] for item in lab]\n",
    "    lab_test = [item[-20:] for item in lab]\n",
    "\n",
    "    seq_train.sort(key=lambda x:len(x))\n",
    "    lab_train.sort(key=lambda x:len(x))\n",
    "    seq_test.sort(key=lambda x:len(x))\n",
    "    lab_test.sort(key=lambda x:len(x))\n",
    "    \n",
    "seq_length_train = [len(x) for x in seq_train]\n",
    "seq_length_test = [len(x) for x in seq_test]\n",
    "\n",
    "print(len(seq_train))\n",
    "print(len(seq_test))\n",
    "print(len(lab_train))\n",
    "print(len(lab_test))"
   ]
  },
  {
   "cell_type": "code",
   "execution_count": 10,
   "metadata": {
    "colab": {
     "base_uri": "https://localhost:8080/",
     "height": 221
    },
    "colab_type": "code",
    "executionInfo": {
     "elapsed": 8530,
     "status": "ok",
     "timestamp": 1545155148615,
     "user": {
      "displayName": "Pavol Ďuroška",
      "photoUrl": "",
      "userId": "17498834430391954628"
     },
     "user_tz": -60
    },
    "id": "hd04CyW1D9Hf",
    "outputId": "71c2632d-f3e9-48a9-a31c-de8fd086195e"
   },
   "outputs": [
    {
     "name": "stdout",
     "output_type": "stream",
     "text": [
      "##converting network to cuda-enabled\n",
      "Net(\n",
      "  (one_hot): Embedding(17770, 17770)\n",
      "  (rnn1): GRU(17770, 500, batch_first=True)\n",
      "  (lin1): Linear(in_features=17770, out_features=5000, bias=False)\n",
      "  (rnn2): GRU(500, 500)\n",
      "  (rnn3): GRU(500, 500)\n",
      "  (lin2): Linear(in_features=500, out_features=500, bias=False)\n",
      "  (l_out): Linear(in_features=500, out_features=17770, bias=False)\n",
      "  (criteria): CrossEntropyLoss()\n",
      "  (dropout): Dropout(p=0.4)\n",
      ")\n"
     ]
    }
   ],
   "source": [
    "# Define network\n",
    "output_size = 17770\n",
    "num_input = 17770\n",
    "hidden_size_rnn = 500\n",
    "hidden_size_lin1 = 5000\n",
    "\n",
    "hidden_size_lin2 = 500\n",
    "\n",
    "class Net(nn.Module):\n",
    "    def __init__(self):\n",
    "        super(Net, self).__init__()\n",
    "        \n",
    "        self.one_hot = nn.Embedding(num_input, num_input)\n",
    "        self.one_hot.weight.data = torch.eye(num_input)\n",
    "        self.one_hot.weight.detach_()\n",
    "        \n",
    "        self.rnn = GRU(input_size=num_input,\n",
    "                        hidden_size=hidden_size_rnn,\n",
    "                        num_layers=1,\n",
    "                        bidirectional=False,\n",
    "                        batch_first = True)\n",
    "        \n",
    "        self.lin1 = Linear(in_features=num_input,\n",
    "                           out_features=hidden_size_lin1,\n",
    "                           bias=False)\n",
    "        \n",
    "        \n",
    "        self.lin2 = Linear(in_features=hidden_size_lin1,\n",
    "                           out_features=hidden_size_lin2,\n",
    "                           bias=False)\n",
    "        \n",
    "        self.l_out = Linear(in_features=hidden_size_rnn,\n",
    "                            out_features=output_size,\n",
    "                            bias=False)\n",
    "        \n",
    "        self.criteria = nn.CrossEntropyLoss()\n",
    "        self.dropout = nn.Dropout(p = 0.4)\n",
    "    \n",
    "    def forward(self, x):\n",
    "        out = {}\n",
    "        x = self.one_hot(x)\n",
    "        \n",
    "        x, hn = self.rnn(x)\n",
    "        \n",
    "        #x = tanh(self.lin1(x))\n",
    "        \n",
    "        #x = self.dropout(x)\n",
    "                \n",
    "        #x = tanh(self.lin2(x))\n",
    "        \n",
    "        #x = self.dropout(x)\n",
    "        \n",
    "        out = self.l_out(x)\n",
    "        return out\n",
    "    \n",
    "net = Net()\n",
    "if use_cuda:\n",
    "    print('##converting network to cuda-enabled')\n",
    "    net.cuda()\n",
    "print(net)"
   ]
  },
  {
   "cell_type": "code",
   "execution_count": 11,
   "metadata": {
    "colab": {
     "base_uri": "https://localhost:8080/",
     "height": 289
    },
    "colab_type": "code",
    "executionInfo": {
     "elapsed": 1848,
     "status": "ok",
     "timestamp": 1545155165877,
     "user": {
      "displayName": "Pavol Ďuroška",
      "photoUrl": "",
      "userId": "17498834430391954628"
     },
     "user_tz": -60
    },
    "id": "eetzO83QD9Hl",
    "outputId": "989d1f08-a93f-4f2b-ba0f-dc970fb90e13"
   },
   "outputs": [
    {
     "data": {
      "text/plain": [
       "{'l_out.weight': True,\n",
       " 'lin1.weight': True,\n",
       " 'lin2.weight': True,\n",
       " 'one_hot.weight': False,\n",
       " 'rnn1.bias_hh_l0': True,\n",
       " 'rnn1.bias_ih_l0': True,\n",
       " 'rnn1.weight_hh_l0': True,\n",
       " 'rnn1.weight_ih_l0': True,\n",
       " 'rnn2.bias_hh_l0': True,\n",
       " 'rnn2.bias_ih_l0': True,\n",
       " 'rnn2.weight_hh_l0': True,\n",
       " 'rnn2.weight_ih_l0': True,\n",
       " 'rnn3.bias_hh_l0': True,\n",
       " 'rnn3.bias_ih_l0': True,\n",
       " 'rnn3.weight_hh_l0': True,\n",
       " 'rnn3.weight_ih_l0': True}"
      ]
     },
     "execution_count": 11,
     "metadata": {
      "tags": []
     },
     "output_type": "execute_result"
    }
   ],
   "source": [
    "{p[0]: p[1].requires_grad for p in net.named_parameters()} #checking which weigth are updated,"
   ]
  },
  {
   "cell_type": "code",
   "execution_count": 0,
   "metadata": {
    "colab": {},
    "colab_type": "code",
    "id": "KLoyUlXbD9Hq"
   },
   "outputs": [],
   "source": [
    "optimizer = optim.Adam(net.parameters(), lr=0.01)"
   ]
  },
  {
   "cell_type": "code",
   "execution_count": 0,
   "metadata": {
    "colab": {
     "base_uri": "https://localhost:8080/",
     "height": 374
    },
    "colab_type": "code",
    "executionInfo": {
     "elapsed": 1117894,
     "status": "ok",
     "timestamp": 1544970177350,
     "user": {
      "displayName": "Pavol Ďuroška",
      "photoUrl": "",
      "userId": "17498834430391954628"
     },
     "user_tz": -60
    },
    "id": "Dsbuay77D9Hu",
    "outputId": "08d8a27d-7b98-4343-a0c1-b041a25607e5"
   },
   "outputs": [
    {
     "name": "stdout",
     "output_type": "stream",
     "text": [
      "TRAIN Loss 50: tensor(8.2614, device='cuda:0', grad_fn=<DivBackward0>)\n",
      "TRAIN accuracy 0.255\n",
      "TEST accuracy 0.218\n",
      "TRAIN Loss 100: tensor(7.9771, device='cuda:0', grad_fn=<DivBackward0>)\n",
      "TRAIN accuracy 0.313\n",
      "TEST accuracy 0.285\n",
      "TRAIN Loss 150: tensor(7.9454, device='cuda:0', grad_fn=<DivBackward0>)\n",
      "TRAIN accuracy 0.319\n",
      "TEST accuracy 0.299\n",
      "TRAIN Loss 200: tensor(7.9160, device='cuda:0', grad_fn=<DivBackward0>)\n",
      "TRAIN accuracy 0.288\n",
      "TEST accuracy 0.277\n",
      "TRAIN Loss 250: tensor(7.8621, device='cuda:0', grad_fn=<DivBackward0>)\n",
      "TRAIN accuracy 0.35\n",
      "TEST accuracy 0.344\n",
      "TRAIN Loss 300: tensor(7.8410, device='cuda:0', grad_fn=<DivBackward0>)\n",
      "TRAIN accuracy 0.308\n",
      "TEST accuracy 0.316\n",
      "TRAIN Loss 350: tensor(7.8761, device='cuda:0', grad_fn=<DivBackward0>)\n",
      "TRAIN accuracy 0.361\n",
      "TEST accuracy 0.327\n"
     ]
    }
   ],
   "source": [
    "# Train and validation loop\n",
    "batch_size = 50\n",
    "net.train()\n",
    "counter = 0\n",
    "temp = 0\n",
    "\n",
    "train_accuracy = []\n",
    "test_accuracy = []\n",
    "train_loss = []\n",
    "\n",
    "for i in np.random.choice(len(seq_train)//batch_size,len(seq_train)//batch_size, replace=False):\n",
    "    net.train()\n",
    "    batch = seq_train[i*batch_size:(i+1)*batch_size]\n",
    "    batch_length = seq_length_train[i*batch_size:(i+1)*batch_size]\n",
    "    batch_label = lab_train[i*batch_size:(i+1)*batch_size]\n",
    "    \n",
    "    # Cutting the data to use only the last 20 movies of the sequence\n",
    "    min_len_batch = min(batch_length)\n",
    "    batch = np.array([item[-20:] for item in batch]) \n",
    "    batch_label = np.array([item[-20:] for item in batch_label])\n",
    "    batch = torch.from_numpy(batch).long()\n",
    "    batch_label = torch.from_numpy(batch_label).long()\n",
    "    if use_cuda:\n",
    "        batch = Variable(batch.cuda())\n",
    "        batch_label = Variable(batch_label.cuda())\n",
    "    output = net(batch)\n",
    "    batch_loss = net.criteria(output.view(-1,output_size),batch_label.view(-1))\n",
    "    temp = temp + batch_loss\n",
    "    counter += 1\n",
    "    every = 50\n",
    "    if counter%every ==0:\n",
    "        print('TRAIN Loss'+' '+str(counter)+':',temp/every)\n",
    "        train_loss.append(temp/every)\n",
    "\n",
    "        temp = 0\n",
    "\n",
    "    optimizer.zero_grad()\n",
    "    batch_loss.backward()\n",
    "    optimizer.step()    \n",
    "    \n",
    "    # Train accuracy on rand_sample users from the training sequence \n",
    "    \n",
    "    rand_samples = 1000\n",
    "    if (counter % every) == 0:\n",
    "        net.eval()\n",
    "        count_train = 0\n",
    "        good_train = 0\n",
    "        with torch.no_grad():\n",
    "            for user_train_idx in np.random.choice(range(len(seq_train)), rand_samples, replace = False):\n",
    "                user_train = seq_train[user_train_idx]\n",
    "                inputs_train = torch.from_numpy(np.array(user_train[-20:-5],dtype=float)).long()\n",
    "                if use_cuda:\n",
    "                    inputs_train = Variable(inputs_train.cuda())\n",
    "                labels_train = user_train[-5:]\n",
    "                inputs_train = inputs_train.view(1,inputs_train.size()[0])\n",
    "                outputs_train = net(inputs_train)\n",
    "                out_train = softmax(outputs_train[:,-1,:],dim=1).cpu().numpy().reshape(-1)\n",
    "\n",
    "                top20_train = np.argsort(out_train)[-20:]\n",
    "                okay_train = np.any([movie in labels_train for movie in top20_train])\n",
    "                count_train += 1\n",
    "                if okay_train:\n",
    "                  good_train +=1\n",
    "            print('TRAIN accuracy', good_train/rand_samples)\n",
    "            train_accuracy.append(good_train/rand_samples)\n",
    "    \n",
    "    \n",
    "    \n",
    "    # Test Accuracy on rand_sample users from the test sequence\n",
    "    #every_test = 50\n",
    "    if (counter % every) == 0:\n",
    "        net.eval()\n",
    "        count_test = 0\n",
    "        good_test = 0\n",
    "        with torch.no_grad():\n",
    "            for user_test_idx in np.random.choice(range(len(seq_test)),rand_samples, replace = False):\n",
    "                user_test = seq_test[user_test_idx]\n",
    "                inputs_test = torch.from_numpy(np.array(user_test[-20:-5],dtype=float)).long()\n",
    "                if use_cuda:\n",
    "                    inputs_test = Variable(inputs_test.cuda())\n",
    "                labels_test = user_test[-5:]\n",
    "                inputs_test = inputs_test.view(1,inputs_test.size()[0])\n",
    "                outputs_test = net(inputs_test)\n",
    "                out_test = softmax(outputs_test[:,-1,:],dim=1).cpu().numpy().reshape(-1)\n",
    "\n",
    "                top20_test = np.argsort(out_test)[-20:]\n",
    "                okay_test = np.any([movie in labels_test for movie in top20_test])\n",
    "                count_test += 1\n",
    "                if okay_test:\n",
    "                    good_test +=1\n",
    "            print('TEST accuracy', good_test/rand_samples)\n",
    "            test_accuracy.append(good_test/rand_samples)\n"
   ]
  },
  {
   "cell_type": "code",
   "execution_count": 0,
   "metadata": {
    "colab": {
     "base_uri": "https://localhost:8080/",
     "height": 544
    },
    "colab_type": "code",
    "executionInfo": {
     "elapsed": 1335599,
     "status": "ok",
     "timestamp": 1544970400835,
     "user": {
      "displayName": "Pavol Ďuroška",
      "photoUrl": "",
      "userId": "17498834430391954628"
     },
     "user_tz": -60
    },
    "id": "EQTK736JD9H8",
    "outputId": "12a4c38e-d11d-4e4b-e705-033c4c51831e"
   },
   "outputs": [
    {
     "name": "stdout",
     "output_type": "stream",
     "text": [
      "0\n",
      "1000\n",
      "2000\n",
      "3000\n",
      "4000\n",
      "5000\n",
      "6000\n",
      "7000\n",
      "8000\n",
      "9000\n",
      "10000\n",
      "11000\n",
      "12000\n",
      "13000\n",
      "14000\n",
      "15000\n",
      "16000\n",
      "17000\n",
      "18000\n",
      "19000\n",
      "20000\n",
      "21000\n",
      "22000\n",
      "23000\n",
      "24000\n",
      "25000\n",
      "26000\n",
      "27000\n",
      "28000\n",
      "29000\n",
      "0.6090960659347993\n"
     ]
    }
   ],
   "source": [
    "# Evaluating the performance of the network using the whole test sequence\n",
    "net.eval()\n",
    "count = 0\n",
    "good = 0\n",
    "with torch.no_grad():\n",
    "  for user in seq_test:\n",
    "    \n",
    "      inputs = torch.from_numpy(np.array(user[-20:-5],dtype=float)).long()\n",
    "      if use_cuda:\n",
    "          inputs = Variable(inputs.cuda())\n",
    "      labels = user[-5:]\n",
    "      inputs = inputs.view(1,inputs.size()[0])\n",
    "      outputs = net(inputs)\n",
    "      out = softmax(outputs[:,-1,:],dim=1).cpu().numpy().reshape(-1)\n",
    "      #print(outputs.min(),outputs.max(),outputs.sum())\n",
    "      #print(np.argmax(outputs))\n",
    "      top20 = np.argsort(out)[-20:]\n",
    "      okay = np.any([movie in labels for movie in top20])\n",
    "      if count%1000==0:\n",
    "        print(count)\n",
    "      count += 1\n",
    "      if okay:\n",
    "        good +=1\n",
    "print(good/count)"
   ]
  },
  {
   "cell_type": "code",
   "execution_count": 0,
   "metadata": {
    "colab": {
     "base_uri": "https://localhost:8080/",
     "height": 363
    },
    "colab_type": "code",
    "executionInfo": {
     "elapsed": 2181,
     "status": "ok",
     "timestamp": 1544970775901,
     "user": {
      "displayName": "Pavol Ďuroška",
      "photoUrl": "",
      "userId": "17498834430391954628"
     },
     "user_tz": -60
    },
    "id": "1J00S7CoVGhN",
    "outputId": "5b8de6cc-cd9f-47f9-f7c3-84e4542a6244"
   },
   "outputs": [
    {
     "data": {
      "image/png": "[encoded data removed]",
      "text/plain": [
       "<matplotlib.figure.Figure at 0x7fe543157d30>"
      ]
     },
     "metadata": {
      "tags": []
     },
     "output_type": "display_data"
    }
   ],
   "source": [
    "# Ploting the loss and accuracy\n",
    "fig, ax1 = plt.subplots()\n",
    "\n",
    "ax2 = ax1.twinx()\n",
    "ax1.plot(train_accuracy, 'g-',label = 'Train Accuracy')\n",
    "ax1.plot(test_accuracy, 'b-', label = 'Test Accuracy')\n",
    "ax1.legend(loc = 7)\n",
    "ax2.plot(train_loss, 'r-',label = 'Train Loss')\n",
    "ax2.legend(loc = 8)\n",
    "\n",
    "ax1.set_xlabel('x*50 batches')\n",
    "ax1.set_ylabel('Percentage', color='g')\n",
    "ax2.set_ylabel('Loss', color='b')\n",
    "\n",
    "\n",
    "\n",
    "plt.savefig('data1_500.png')\n",
    "files.download(\"data1_500.png\") "
   ]
  },
  {
   "cell_type": "code",
   "execution_count": 0,
   "metadata": {
    "colab": {},
    "colab_type": "code",
    "id": "6DZ8FpJO4leh"
   },
   "outputs": [],
   "source": [
    "\n"
   ]
  }
 ],
 "metadata": {
  "accelerator": "GPU",
  "colab": {
   "collapsed_sections": [],
   "name": "Project-RNN.ipynb",
   "provenance": [],
   "version": "0.3.2"
  },
  "kernelspec": {
   "display_name": "Python 3",
   "language": "python",
   "name": "python3"
  },
  "language_info": {
   "codemirror_mode": {
    "name": "ipython",
    "version": 3
   },
   "file_extension": ".py",
   "mimetype": "text/x-python",
   "name": "python",
   "nbconvert_exporter": "python",
   "pygments_lexer": "ipython3",
   "version": "3.6.3"
  }
 },
 "nbformat": 4,
 "nbformat_minor": 1
}
