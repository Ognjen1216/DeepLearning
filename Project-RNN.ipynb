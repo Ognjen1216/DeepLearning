{
 "cells": [
  {
   "cell_type": "code",
   "execution_count": 1,
   "metadata": {},
   "outputs": [],
   "source": [
    "import numpy as np\n",
    "\n",
    "from torchtext import data\n",
    "from torchtext import datasets\n",
    "from torchtext.vocab import Vectors, GloVe\n",
    "\n",
    "import torch\n",
    "from torch.autograd import Variable\n",
    "import torch.nn as nn\n",
    "import torch.optim as optim\n",
    "from torch.nn import Linear, RNN, LSTM\n",
    "from torch.nn.functional import softmax, relu\n",
    "\n",
    "from sklearn.manifold import TSNE\n",
    "import h5py"
   ]
  },
  {
   "cell_type": "code",
   "execution_count": 2,
   "metadata": {},
   "outputs": [],
   "source": [
    "# Load data\n",
    "with h5py.File('C:/Users/jovog/OneDrive/Documents/50000_dataset.hdf5', 'r') as hf:\n",
    "    data = hf['data'][:]\n",
    "    label = hf['label'][:]\n",
    "data[:,1] += 1\n",
    "label[:] += 1"
   ]
  },
  {
   "cell_type": "code",
   "execution_count": 3,
   "metadata": {},
   "outputs": [],
   "source": [
    "seq = [] #Initalize\n",
    "lab = []\n",
    "current_user = -1\n",
    "for i in range(data.shape[0]): # going through the data and sorting into user sequences\n",
    "    if data[i,0]!=current_user:\n",
    "        current_user = data[i,0]\n",
    "        seq.append([data[i,1]])\n",
    "        lab.append([label[i]])        \n",
    "    else:\n",
    "        seq[-1].append(data[i,1]) # new user line\n",
    "        lab[-1].append(label[i])\n",
    "        \n",
    "seq.sort(key=lambda x:len(x))\n",
    "lab.sort(key=lambda x:len(x))\n",
    "seq_length = [len(x) for x in seq]"
   ]
  },
  {
   "cell_type": "code",
   "execution_count": 49,
   "metadata": {},
   "outputs": [
    {
     "name": "stdout",
     "output_type": "stream",
     "text": [
      "Net(\n",
      "  (one_hot): Embedding(17770, 17770)\n",
      "  (rnn): LSTM(17770, 100, batch_first=True)\n",
      "  (l_out): Linear(in_features=100, out_features=17770, bias=False)\n",
      "  (criteria): CrossEntropyLoss()\n",
      ")\n"
     ]
    }
   ],
   "source": [
    "# Define network\n",
    "output_size = 17770\n",
    "num_input = 17770\n",
    "hidden_size = 100\n",
    "\n",
    "class Net(nn.Module):\n",
    "    def __init__(self):\n",
    "        super(Net, self).__init__()\n",
    "        \n",
    "        self.one_hot = nn.Embedding(num_input, num_input)\n",
    "        self.one_hot.weight.data = torch.eye(num_input)\n",
    "        self.one_hot.weight.detach_()\n",
    "        self.rnn = LSTM(input_size=num_input,\n",
    "                        hidden_size=100,\n",
    "                        num_layers=1,\n",
    "                        bidirectional=False,\n",
    "                        batch_first = True)\n",
    "        self.l_out = Linear(in_features=hidden_size,\n",
    "                            out_features=output_size,\n",
    "                            bias=False)\n",
    "        self.criteria = nn.CrossEntropyLoss()\n",
    "    \n",
    "    def forward(self, x):\n",
    "        out = {}\n",
    "        x = self.one_hot(x)\n",
    "        \n",
    "        x, hn = self.rnn(x)\n",
    "        \n",
    "        out = softmax(self.l_out(x), dim=2)\n",
    "        return out\n",
    "    \n",
    "    def MyLoss(self, Y_hat, Y):\n",
    "        # create a mask by filtering out all tokens that ARE NOT the padding token\n",
    "        mask = (Y > 0).float()\n",
    "        #if mask[0,-1]==0:\n",
    "        #    m = len(mask[0,:])-1\n",
    "        mask = mask.view(-1,1)\n",
    "        \n",
    "        Y = Y.view(-1)\n",
    "        \n",
    "        Y_hat = Y_hat.view(-1, output_size)\n",
    "        \n",
    "        # count how many tokens we have\n",
    "        #nb_tokens = int(torch.sum(mask).data[0])\n",
    "        print('y_hat:',Y_hat.size(),Y_hat)\n",
    "        print('y:',Y.size(),Y)\n",
    "        #print('mask:',mask.size(),mask)\n",
    "        # pick the values for the label and zero out the rest with the mask\n",
    "        Y_hat = Y_hat * mask\n",
    "        #print('2:',Y_hat.size(),Y_hat)\n",
    "        #print('3:',Y_hat[m,:])\n",
    "        #print(Y_hat.type())\n",
    "        #print(Y.type())\n",
    "        loss = self.criteria(Y_hat,Y)\n",
    "        return loss\n",
    "net = Net()\n",
    "print(net)"
   ]
  },
  {
   "cell_type": "code",
   "execution_count": 50,
   "metadata": {},
   "outputs": [
    {
     "data": {
      "text/plain": [
       "{'one_hot.weight': False,\n",
       " 'rnn.weight_ih_l0': True,\n",
       " 'rnn.weight_hh_l0': True,\n",
       " 'rnn.bias_ih_l0': True,\n",
       " 'rnn.bias_hh_l0': True,\n",
       " 'l_out.weight': True}"
      ]
     },
     "execution_count": 50,
     "metadata": {},
     "output_type": "execute_result"
    }
   ],
   "source": [
    "{p[0]: p[1].requires_grad for p in net.named_parameters()}"
   ]
  },
  {
   "cell_type": "code",
   "execution_count": 51,
   "metadata": {},
   "outputs": [],
   "source": [
    "optimizer = optim.Adam(net.parameters(), lr=0.01)"
   ]
  },
  {
   "cell_type": "code",
   "execution_count": 52,
   "metadata": {},
   "outputs": [
    {
     "name": "stdout",
     "output_type": "stream",
     "text": [
      "y_hat: torch.Size([390, 17770]) tensor([[0.0001, 0.0001, 0.0001,  ..., 0.0001, 0.0001, 0.0001],\n",
      "        [0.0001, 0.0001, 0.0001,  ..., 0.0001, 0.0001, 0.0001],\n",
      "        [0.0001, 0.0001, 0.0001,  ..., 0.0001, 0.0001, 0.0001],\n",
      "        ...,\n",
      "        [0.0001, 0.0001, 0.0001,  ..., 0.0001, 0.0001, 0.0001],\n",
      "        [0.0001, 0.0001, 0.0001,  ..., 0.0001, 0.0001, 0.0001],\n",
      "        [0.0001, 0.0001, 0.0001,  ..., 0.0001, 0.0001, 0.0001]],\n",
      "       grad_fn=<ViewBackward>)\n",
      "y: torch.Size([390]) tensor([ 7632, 13359, 13728,  1144,  3782,  4302,  4656,  5112,  6196,  6931,\n",
      "         7590,  8181,  8393,  8915,  9205,  9471,  9617,  9645, 10375, 12047,\n",
      "        12582, 12918, 13102, 13391, 14103, 14312, 14856, 14909, 15124, 15156,\n",
      "        15436, 15472, 15563, 15844, 15922, 16139, 16339, 16879, 16901,  1542,\n",
      "         2782,  9144,  6287,  7234,  8636,  8904,  9340, 13050, 14313, 14367,\n",
      "        14590, 15124, 15156, 16872, 10583, 16380,  6007,  1409,  2372, 12155,\n",
      "         4590,  6428, 12799,  7786, 14533,  1700, 12359,  5582,  9628,  7513,\n",
      "         1719, 17324, 15404, 12582, 15509,  5239,  5309, 13129,  5145,  4644,\n",
      "         9144,  5317,  5496,  5862,  5939,  6029,  6287,  6692,  6974,  7234,\n",
      "         7937,  8782,  9340,  9617, 11283, 11443, 11521, 12090, 12317, 12338,\n",
      "        12470, 12473, 12672, 12870, 12911, 13050, 13488, 14313, 14574, 14691,\n",
      "        14856, 14928, 15124, 15582, 16242, 16954, 17764, 17324,  1145,  1659,\n",
      "         3725,  4705,  4883,  9144,  6266,  6287,  6972,  8277,  8636,  9340,\n",
      "        11149, 12299, 12317, 12470, 12911, 13102, 13462, 13622, 13748, 14149,\n",
      "        14313, 14538, 14712, 15124, 15205, 15393, 15436, 15472, 15582, 15887,\n",
      "        16128, 16242, 16377, 16384, 17002, 17169,  1307,  1798,  2152,  3610,\n",
      "         9144,  5293,  5317,  6287,  6386,  6692,  6972,  7234,  9340, 10378,\n",
      "        11149, 11192, 11315, 11677, 12299, 12317, 12470, 12672, 12911, 13081,\n",
      "        14149, 14313, 14367, 14538, 14712, 15205, 15582, 16025, 16128, 16242,\n",
      "        16377, 17169, 17343, 11812, 14403,  1145,  1798,  2200,  2938,  3610,\n",
      "         9144,  5309,  5317,  6235,  6287,  6844,  6972,  7234,  7617,  7624,\n",
      "         7780,  9340,  9756, 10168, 10359, 11149, 11677, 12317, 12470, 13050,\n",
      "        13081, 13129, 13651, 14367, 15062, 15205, 15307, 15472, 15582, 15689,\n",
      "        16242, 16377, 16913, 17088,  1798,  4640,  4977,  9144,  5293,  5317,\n",
      "         6287,  6692,  7234,  8743,  8840,  9144,  9204,  9340,  9565, 11149,\n",
      "        11677, 12299, 12317, 12435, 12470, 12672, 12818, 12911, 13462, 14134,\n",
      "        14313, 14367, 14538, 15205, 15578, 15582, 16128, 16242, 16377, 16384,\n",
      "        16668, 16954, 17154, 16640,  1145,  2782,  4306,  4640,  5807,  6475,\n",
      "        14242,  7635,  9645, 10170, 10275, 10358, 10359, 10375, 11149, 13050,\n",
      "        14103, 14538, 14644, 15582, 16063, 16082, 16377, 16522, 16984, 17129,\n",
      "        17506, 11658, 11812,  1890,  8904, 14550,  2950, 10550,  3917,  8980,\n",
      "        15449, 13628,  1798,  2152,  5317,  5496,  6287,  6386,  6692,  6972,\n",
      "         7234,  7364,  7617,  9235,  9340,  9683, 11149, 11677, 12054, 12299,\n",
      "        12317, 12470, 12672, 12911, 13462, 13651, 14313, 14367, 14538, 14712,\n",
      "        15124, 15205, 15545, 15582, 16242, 16377, 16384, 16668, 16954, 17129,\n",
      "        17169,  1406,  2152,  3860,  5317,  6287,  6386,  6692,  6844,  7617,\n",
      "         7624,  9340,  9756, 10359, 11265, 12317, 12470, 12911, 13050, 13102,\n",
      "        13462, 14313, 14367, 14660, 15124, 15582,  3579,  4883,  5614, 10412,\n",
      "        12172, 12228, 15070, 15116, 15764, 16901, 17308,  6833,  8764, 16879])\n"
     ]
    }
   ],
   "source": [
    "# Train and validation loop\n",
    "batch_size = 10\n",
    "net.train()\n",
    "for i in np.random.choice(len(seq)//batch_size,len(seq)//batch_size, replace=False):\n",
    "    batch = seq[i*batch_size:(i+1)*batch_size]\n",
    "    batch_length = seq_length[i*batch_size:(i+1)*batch_size]\n",
    "    batch_label = lab[i*batch_size:(i+1)*batch_size]\n",
    "    \n",
    "    # Zero padding of the batch\n",
    "    max_len_batch = max(batch_length)\n",
    "    batch_padded = np.zeros((batch_size,max_len_batch))\n",
    "    padded_label = np.zeros((batch_size,max_len_batch))\n",
    "    for j in range(batch_size):\n",
    "        batch_padded[j,0:batch_length[j]] = batch[j]\n",
    "        padded_label[j,0:batch_length[j]] = batch_label[j]\n",
    "    batch_padded = torch.from_numpy(batch_padded).long()\n",
    "    padded_label = torch.from_numpy(padded_label).long()\n",
    "    output = net(batch_padded)\n",
    "    #print('batch_length:',batch_length)\n",
    "    batch_loss = net.MyLoss(output,padded_label)\n",
    "    optimizer.zero_grad()\n",
    "    batch_loss.backward()\n",
    "    optimizer.step()\n",
    "    break"
   ]
  },
  {
   "cell_type": "code",
   "execution_count": 48,
   "metadata": {},
   "outputs": [
    {
     "name": "stdout",
     "output_type": "stream",
     "text": [
      "torch.Size([10, 197])\n"
     ]
    }
   ],
   "source": [
    "print(padded_label.size())"
   ]
  },
  {
   "cell_type": "code",
   "execution_count": null,
   "metadata": {},
   "outputs": [],
   "source": []
  }
 ],
 "metadata": {
  "kernelspec": {
   "display_name": "Python 3",
   "language": "python",
   "name": "python3"
  },
  "language_info": {
   "codemirror_mode": {
    "name": "ipython",
    "version": 3
   },
   "file_extension": ".py",
   "mimetype": "text/x-python",
   "name": "python",
   "nbconvert_exporter": "python",
   "pygments_lexer": "ipython3",
   "version": "3.6.3"
  }
 },
 "nbformat": 4,
 "nbformat_minor": 2
}
