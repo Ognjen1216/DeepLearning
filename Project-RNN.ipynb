{
 "cells": [
  {
   "cell_type": "code",
   "execution_count": 1,
   "metadata": {},
   "outputs": [],
   "source": [
    "import numpy as np\n",
    "\n",
    "from torchtext import data\n",
    "from torchtext import datasets\n",
    "from torchtext.vocab import Vectors, GloVe\n",
    "\n",
    "import torch\n",
    "from torch.autograd import Variable\n",
    "import torch.nn as nn\n",
    "import torch.optim as optim\n",
    "from torch.nn import Linear, RNN, LSTM\n",
    "from torch.nn.functional import softmax, relu\n",
    "\n",
    "from sklearn.manifold import TSNE\n",
    "import h5py"
   ]
  },
  {
   "cell_type": "code",
   "execution_count": 2,
   "metadata": {},
   "outputs": [
    {
     "name": "stdout",
     "output_type": "stream",
     "text": [
      "False\n"
     ]
    }
   ],
   "source": [
    "use_cuda = torch.cuda.is_available()\n",
    "print(use_cuda)"
   ]
  },
  {
   "cell_type": "code",
   "execution_count": 3,
   "metadata": {},
   "outputs": [],
   "source": [
    "# Load data\n",
    "with h5py.File('C:/Users/jovog/OneDrive/Documents/50000_dataset.hdf5', 'r') as hf:\n",
    "    data = hf['data'][:]\n",
    "    label = hf['label'][:]\n",
    "data[:,1] += 1\n",
    "label[:] += 1"
   ]
  },
  {
   "cell_type": "code",
   "execution_count": 4,
   "metadata": {},
   "outputs": [],
   "source": [
    "seq = [] #Initalize\n",
    "lab = []\n",
    "current_user = -1\n",
    "for i in range(data.shape[0]): # going through the data and sorting into user sequences\n",
    "    if data[i,0]!=current_user:\n",
    "        current_user = data[i,0]\n",
    "        seq.append([data[i,1]])\n",
    "        lab.append([label[i]])        \n",
    "    else:\n",
    "        seq[-1].append(data[i,1]) # new user line\n",
    "        lab[-1].append(label[i])\n",
    "        \n",
    "seq.sort(key=lambda x:len(x))\n",
    "lab.sort(key=lambda x:len(x))\n",
    "seq_length = [len(x) for x in seq]"
   ]
  },
  {
   "cell_type": "code",
   "execution_count": 5,
   "metadata": {},
   "outputs": [
    {
     "name": "stdout",
     "output_type": "stream",
     "text": [
      "Net(\n",
      "  (one_hot): Embedding(17771, 17771)\n",
      "  (rnn1): LSTM(17771, 1000, batch_first=True)\n",
      "  (l_out): Linear(in_features=1000, out_features=17771, bias=False)\n",
      "  (criteria): CrossEntropyLoss()\n",
      ")\n"
     ]
    }
   ],
   "source": [
    "# Define network\n",
    "output_size = 17771\n",
    "num_input = 17771\n",
    "hidden_size_rnn1 = 1000\n",
    "hidden_size_lin1 = 1000\n",
    "\n",
    "hidden_size_rnn2 = 2000\n",
    "hidden_size_lin2 = 5000\n",
    "\n",
    "class Net(nn.Module):\n",
    "    def __init__(self):\n",
    "        super(Net, self).__init__()\n",
    "        \n",
    "        self.one_hot = nn.Embedding(num_input, num_input)\n",
    "        self.one_hot.weight.data = torch.eye(num_input)\n",
    "        self.one_hot.weight.detach_()\n",
    "        \n",
    "        self.rnn1 = LSTM(input_size=num_input,\n",
    "                        hidden_size=hidden_size_rnn1,\n",
    "                        num_layers=1,\n",
    "                        bidirectional=False,\n",
    "                        batch_first = True)\n",
    "        \n",
    "        #self.lin1 = Linear(in_features=hidden_size_rnn1,\n",
    "        #                   out_features=hidden_size_lin1,\n",
    "        #                   bias=False)\n",
    "        \n",
    "        #self.rnn2 = LSTM(input_size=hidden_size_lin1,\n",
    "        #                 hidden_size=hidden_size_rnn2,\n",
    "        #                 num_layers=1,\n",
    "        #                 bidirectional=False,\n",
    "        #                 batch_first=True)\n",
    "        \n",
    "        #self.lin2 = Linear(in_features=hidden_size_rnn2,\n",
    "        #                   out_features=hidden_size_lin2,\n",
    "        #                   bias=False)\n",
    "        \n",
    "        self.l_out = Linear(in_features=hidden_size_rnn1,\n",
    "                            out_features=output_size,\n",
    "                            bias=False)\n",
    "        self.criteria = nn.CrossEntropyLoss()\n",
    "    \n",
    "    def forward(self, x):\n",
    "        out = {}\n",
    "        x = self.one_hot(x)\n",
    "        \n",
    "        x, hn = self.rnn1(x)\n",
    "        \n",
    "        #x = relu(self.lin1(x))\n",
    "        \n",
    "        \n",
    "        #x, hn = self.rnn2(x)\n",
    "        \n",
    "        #x = relu(self.lin2(x))\n",
    "        \n",
    "        out = (self.l_out(x))\n",
    "        return out\n",
    "    \n",
    "    def MyLoss(self, Y_hat, Y):\n",
    "        # create a mask by filtering out all tokens that ARE NOT the padding token\n",
    "        mask = (Y > 0).float()\n",
    "        #if mask[0,-1]==0:\n",
    "        #    m = len(mask[0,:])-1\n",
    "        mask = mask.view(-1,1)\n",
    "        \n",
    "        Y = Y.view(-1)\n",
    "        \n",
    "        Y_hat = Y_hat.view(-1, output_size)\n",
    "        \n",
    "        # count how many tokens we have\n",
    "        #nb_tokens = int(torch.sum(mask).data[0])\n",
    "        #print('y_hat:',Y_hat.size(),Y_hat)\n",
    "        #print('y:',Y.size(),Y)\n",
    "        #print('mask:',mask.size(),mask)\n",
    "        # pick the values for the label and zero out the rest with the mask\n",
    "        Y_hat = Y_hat * mask\n",
    "        #print('2:',Y_hat.size(),Y_hat)\n",
    "        #print('3:',Y_hat[m,:])\n",
    "        #print(Y_hat.type())\n",
    "        #print(Y.type())\n",
    "        loss = self.criteria(Y_hat,Y)\n",
    "        return loss\n",
    "net = Net()\n",
    "if use_cuda:\n",
    "    net.cuda()\n",
    "print(net)"
   ]
  },
  {
   "cell_type": "code",
   "execution_count": 6,
   "metadata": {},
   "outputs": [
    {
     "data": {
      "text/plain": [
       "{'one_hot.weight': False,\n",
       " 'rnn1.weight_ih_l0': True,\n",
       " 'rnn1.weight_hh_l0': True,\n",
       " 'rnn1.bias_ih_l0': True,\n",
       " 'rnn1.bias_hh_l0': True,\n",
       " 'l_out.weight': True}"
      ]
     },
     "execution_count": 6,
     "metadata": {},
     "output_type": "execute_result"
    }
   ],
   "source": [
    "{p[0]: p[1].requires_grad for p in net.named_parameters()}"
   ]
  },
  {
   "cell_type": "code",
   "execution_count": 7,
   "metadata": {},
   "outputs": [],
   "source": [
    "optimizer = optim.Adam(net.parameters(), lr=0.01)"
   ]
  },
  {
   "cell_type": "code",
   "execution_count": null,
   "metadata": {},
   "outputs": [
    {
     "name": "stdout",
     "output_type": "stream",
     "text": [
      "tensor(9.7847, grad_fn=<NllLossBackward>)\n",
      "tensor(9.6105, grad_fn=<NllLossBackward>)\n",
      "tensor(10.2266, grad_fn=<NllLossBackward>)\n",
      "tensor(12.5611, grad_fn=<NllLossBackward>)\n",
      "tensor(11.0495, grad_fn=<NllLossBackward>)\n",
      "tensor(9.8305, grad_fn=<NllLossBackward>)\n",
      "tensor(8.4837, grad_fn=<NllLossBackward>)\n",
      "tensor(8.4375, grad_fn=<NllLossBackward>)\n",
      "tensor(10.1540, grad_fn=<NllLossBackward>)\n",
      "tensor(9.9748, grad_fn=<NllLossBackward>)\n",
      "tensor(13.6747, grad_fn=<NllLossBackward>)\n",
      "tensor(10.5146, grad_fn=<NllLossBackward>)\n",
      "tensor(11.0789, grad_fn=<NllLossBackward>)\n",
      "tensor(11.3230, grad_fn=<NllLossBackward>)\n",
      "tensor(10.7022, grad_fn=<NllLossBackward>)\n",
      "tensor(12.1851, grad_fn=<NllLossBackward>)\n"
     ]
    }
   ],
   "source": [
    "# Train and validation loop\n",
    "batch_size = 10\n",
    "net.train()\n",
    "for i in np.random.choice(len(seq)//batch_size,len(seq)//batch_size, replace=False):\n",
    "    batch = seq[i*batch_size:(i+1)*batch_size]\n",
    "    batch_length = seq_length[i*batch_size:(i+1)*batch_size]\n",
    "    batch_label = lab[i*batch_size:(i+1)*batch_size]\n",
    "    \n",
    "    # Zero padding of the batch\n",
    "    max_len_batch = max(batch_length)\n",
    "    batch_padded = np.zeros((batch_size,max_len_batch))\n",
    "    padded_label = np.zeros((batch_size,max_len_batch))\n",
    "    for j in range(batch_size):\n",
    "        batch_padded[j,0:batch_length[j]] = batch[j]\n",
    "        padded_label[j,0:batch_length[j]] = batch_label[j]\n",
    "    batch_padded = torch.from_numpy(batch_padded).long()\n",
    "    padded_label = torch.from_numpy(padded_label).long()\n",
    "    output = net(batch_padded)\n",
    "    #print('batch_length:',batch_length)\n",
    "    batch_loss = net.MyLoss(output,padded_label)\n",
    "    print(batch_loss)\n",
    "    optimizer.zero_grad()\n",
    "    batch_loss.backward()\n",
    "    optimizer.step()"
   ]
  },
  {
   "cell_type": "code",
   "execution_count": null,
   "metadata": {},
   "outputs": [],
   "source": [
    "print(padded_label.size())"
   ]
  },
  {
   "cell_type": "code",
   "execution_count": null,
   "metadata": {},
   "outputs": [],
   "source": []
  }
 ],
 "metadata": {
  "kernelspec": {
   "display_name": "Python 3",
   "language": "python",
   "name": "python3"
  },
  "language_info": {
   "codemirror_mode": {
    "name": "ipython",
    "version": 3
   },
   "file_extension": ".py",
   "mimetype": "text/x-python",
   "name": "python",
   "nbconvert_exporter": "python",
   "pygments_lexer": "ipython3",
   "version": "3.6.3"
  }
 },
 "nbformat": 4,
 "nbformat_minor": 2
}
