{
 "cells": [
  {
   "cell_type": "code",
   "execution_count": 1,
   "metadata": {
    "colab": {
     "base_uri": "https://localhost:8080/",
     "height": 355
    },
    "colab_type": "code",
    "executionInfo": {
     "elapsed": 66949,
     "status": "ok",
     "timestamp": 1546458491722,
     "user": {
      "displayName": "Ognjen Jovanovic",
      "photoUrl": "",
      "userId": "00294620466370050010"
     },
     "user_tz": -60
    },
    "id": "k-k1u4GyD9G_",
    "outputId": "1d1f0357-f0e5-4f77-ac6d-d78dafb33932"
   },
   "outputs": [
    {
     "name": "stdout",
     "output_type": "stream",
     "text": [
      "Collecting torchvision\n",
      "\u001b[?25l  Downloading https://files.pythonhosted.org/packages/ca/0d/f00b2885711e08bd71242ebe7b96561e6f6d01fdb4b9dcf4d37e2e13c5e1/torchvision-0.2.1-py2.py3-none-any.whl (54kB)\n",
      "\u001b[K    100% |████████████████████████████████| 61kB 2.8MB/s \n",
      "\u001b[?25hCollecting pillow>=4.1.1 (from torchvision)\n",
      "\u001b[?25l  Downloading https://files.pythonhosted.org/packages/92/e3/217dfd0834a51418c602c96b110059c477260c7fee898542b100913947cf/Pillow-5.4.0-cp36-cp36m-manylinux1_x86_64.whl (2.0MB)\n",
      "\u001b[K    100% |████████████████████████████████| 2.0MB 11.1MB/s \n",
      "\u001b[?25hRequirement already satisfied: numpy in /usr/local/lib/python3.6/dist-packages (from torchvision) (1.14.6)\n",
      "Requirement already satisfied: six in /usr/local/lib/python3.6/dist-packages (from torchvision) (1.11.0)\n",
      "Collecting torch (from torchvision)\n",
      "\u001b[?25l  Downloading https://files.pythonhosted.org/packages/7e/60/66415660aa46b23b5e1b72bc762e816736ce8d7260213e22365af51e8f9c/torch-1.0.0-cp36-cp36m-manylinux1_x86_64.whl (591.8MB)\n",
      "\u001b[K    100% |████████████████████████████████| 591.8MB 28kB/s \n",
      "tcmalloc: large alloc 1073750016 bytes == 0x60dc2000 @  0x7fed461ed2a4 0x591a07 0x5b5d56 0x502e9a 0x506859 0x502209 0x502f3d 0x506859 0x504c28 0x502540 0x502f3d 0x506859 0x504c28 0x502540 0x502f3d 0x506859 0x504c28 0x502540 0x502f3d 0x507641 0x502209 0x502f3d 0x506859 0x504c28 0x502540 0x502f3d 0x507641 0x504c28 0x502540 0x502f3d 0x507641\n",
      "\u001b[?25hInstalling collected packages: pillow, torch, torchvision\n",
      "  Found existing installation: Pillow 4.0.0\n",
      "    Uninstalling Pillow-4.0.0:\n",
      "      Successfully uninstalled Pillow-4.0.0\n",
      "Successfully installed pillow-5.4.0 torch-1.0.0 torchvision-0.2.1\n"
     ]
    }
   ],
   "source": [
    "!pip3 install torchvision\n",
    "import numpy as np\n",
    " \n",
    "import torch\n",
    "from torch.autograd import Variable\n",
    "import torch.nn as nn\n",
    "import torch.optim as optim\n",
    "from torch.nn import Linear, RNN, LSTM, GRU\n",
    "from torch.nn.functional import softmax, relu, nll_loss, log_softmax\n",
    "from torch import sigmoid, tanh\n",
    "\n",
    "from sklearn.manifold import TSNE\n",
    "import h5py\n",
    "import matplotlib.pyplot as plt\n",
    "from google.colab import files\n"
   ]
  },
  {
   "cell_type": "code",
   "execution_count": 2,
   "metadata": {
    "colab": {
     "base_uri": "https://localhost:8080/",
     "height": 131
    },
    "colab_type": "code",
    "executionInfo": {
     "elapsed": 106246,
     "status": "ok",
     "timestamp": 1546458531059,
     "user": {
      "displayName": "Ognjen Jovanovic",
      "photoUrl": "",
      "userId": "00294620466370050010"
     },
     "user_tz": -60
    },
    "id": "VFZsg0NGEChC",
    "outputId": "ab9d9457-d213-4534-9e33-ec6d8deca6f0"
   },
   "outputs": [
    {
     "name": "stdout",
     "output_type": "stream",
     "text": [
      "Go to this URL in a browser: https://accounts.google.com/o/oauth2/auth?client_id=947318989803-6bn6qk8qdgf4n4g3pfee6491hc0brc4i.apps.googleusercontent.com&redirect_uri=urn%3Aietf%3Awg%3Aoauth%3A2.0%3Aoob&scope=email%20https%3A%2F%2Fwww.googleapis.com%2Fauth%2Fdocs.test%20https%3A%2F%2Fwww.googleapis.com%2Fauth%2Fdrive%20https%3A%2F%2Fwww.googleapis.com%2Fauth%2Fdrive.photos.readonly%20https%3A%2F%2Fwww.googleapis.com%2Fauth%2Fpeopleapi.readonly&response_type=code\n",
      "\n",
      "Enter your authorization code:\n",
      "··········\n",
      "Mounted at /content/drive\n"
     ]
    }
   ],
   "source": [
    "# Accessing google drive\n",
    "from google.colab import drive\n",
    "drive.mount(\"/content/drive\")"
   ]
  },
  {
   "cell_type": "code",
   "execution_count": 3,
   "metadata": {
    "colab": {
     "base_uri": "https://localhost:8080/",
     "height": 36
    },
    "colab_type": "code",
    "executionInfo": {
     "elapsed": 106229,
     "status": "ok",
     "timestamp": 1546458531067,
     "user": {
      "displayName": "Ognjen Jovanovic",
      "photoUrl": "",
      "userId": "00294620466370050010"
     },
     "user_tz": -60
    },
    "id": "HXvQdA6CD9HH",
    "outputId": "a8dbceab-810b-4fc6-a00a-15e5231a6bcf"
   },
   "outputs": [
    {
     "name": "stdout",
     "output_type": "stream",
     "text": [
      "True\n"
     ]
    }
   ],
   "source": [
    "use_cuda = torch.cuda.is_available()\n",
    "print(use_cuda)"
   ]
  },
  {
   "cell_type": "code",
   "execution_count": 4,
   "metadata": {
    "colab": {
     "base_uri": "https://localhost:8080/",
     "height": 36
    },
    "colab_type": "code",
    "executionInfo": {
     "elapsed": 111423,
     "status": "ok",
     "timestamp": 1546458536275,
     "user": {
      "displayName": "Ognjen Jovanovic",
      "photoUrl": "",
      "userId": "00294620466370050010"
     },
     "user_tz": -60
    },
    "id": "8-0RgCyWD9HP",
    "outputId": "19ec19e9-ebb0-466c-c589-6508a8493346"
   },
   "outputs": [
    {
     "name": "stdout",
     "output_type": "stream",
     "text": [
      "/content\n"
     ]
    }
   ],
   "source": [
    "# Load data from google drive, using colab\n",
    "!pwd\n",
    "with h5py.File('/content/drive/My Drive/Colab Notebooks/L4M_dataset.hdf5', 'r') as hf:\n",
    "    data = hf['data'][:]\n",
    "    label = hf['label'][:]"
   ]
  },
  {
   "cell_type": "code",
   "execution_count": 6,
   "metadata": {
    "colab": {
     "base_uri": "https://localhost:8080/",
     "height": 92
    },
    "colab_type": "code",
    "executionInfo": {
     "elapsed": 51113,
     "status": "ok",
     "timestamp": 1546458611185,
     "user": {
      "displayName": "Ognjen Jovanovic",
      "photoUrl": "",
      "userId": "00294620466370050010"
     },
     "user_tz": -60
    },
    "id": "H1NyI4ZAD9Hb",
    "outputId": "4d219d85-ab5e-4597-854c-ec53362cb090"
   },
   "outputs": [
    {
     "name": "stdout",
     "output_type": "stream",
     "text": [
      "120537\n",
      "29979\n",
      "120537\n",
      "29979\n"
     ]
    }
   ],
   "source": [
    "seq = [] #Initalize\n",
    "lab = []\n",
    "current_user = -1\n",
    "for i in range(data.shape[0]): # going through the data and sorting into user sequences\n",
    "    if data[i,0]!=current_user:\n",
    "        current_user = data[i,0]\n",
    "        seq.append([data[i,1]])\n",
    "        lab.append([label[i]])        \n",
    "    else:\n",
    "        seq[-1].append(data[i,1]) # new user line\n",
    "        lab[-1].append(label[i])\n",
    "\n",
    "choose_split = 0 #choosing the split that is going to be used, 0 for 1st split, and 1 for the 2nd\n",
    "\n",
    "if choose_split==0:\n",
    "    train_idx = np.random.choice(len(seq),(len(seq)*8)//10,replace = False)\n",
    "    seq_train = [seq[i] for i in train_idx]\n",
    "    seq_test = [seq[i] for i in range(len(seq)) if i not in train_idx]\n",
    "    lab_train = [lab[i] for i in train_idx]\n",
    "    lab_test = [lab[i] for i in range(len(lab)) if i not in train_idx]\n",
    "\n",
    "    seq_train.sort(key=lambda x:len(x))\n",
    "    lab_train.sort(key=lambda x:len(x))\n",
    "    seq_test.sort(key=lambda x:len(x))\n",
    "    lab_test.sort(key=lambda x:len(x))\n",
    "    seq_train = [item for item in seq_train if len(item) > 19]\n",
    "    lab_train = [item for item in lab_train if len(item) > 19]\n",
    "    seq_test = [item for item in seq_test if len(item) > 19]\n",
    "    lab_test = [item for item in lab_test if len(item) > 19]   \n",
    "else:\n",
    "    seq = [item for item in seq if len(item) > 39]\n",
    "    lab = [item for item in lab if len(item) > 39]\n",
    "\n",
    "    seq_train = [item[:-20] for item in seq]\n",
    "    seq_test = [item[-20:] for item in seq]\n",
    "    lab_train = [item[:-20] for item in lab]\n",
    "    lab_test = [item[-20:] for item in lab]\n",
    "\n",
    "    seq_train.sort(key=lambda x:len(x))\n",
    "    lab_train.sort(key=lambda x:len(x))\n",
    "    seq_test.sort(key=lambda x:len(x))\n",
    "    lab_test.sort(key=lambda x:len(x))\n",
    "    \n",
    "seq_length_train = [len(x) for x in seq_train]\n",
    "seq_length_test = [len(x) for x in seq_test]\n",
    "\n",
    "print(len(seq_train))\n",
    "print(len(seq_test))\n",
    "print(len(lab_train))\n",
    "print(len(lab_test))"
   ]
  },
  {
   "cell_type": "code",
   "execution_count": 7,
   "metadata": {
    "colab": {
     "base_uri": "https://localhost:8080/",
     "height": 204
    },
    "colab_type": "code",
    "executionInfo": {
     "elapsed": 60456,
     "status": "ok",
     "timestamp": 1546458620987,
     "user": {
      "displayName": "Ognjen Jovanovic",
      "photoUrl": "",
      "userId": "00294620466370050010"
     },
     "user_tz": -60
    },
    "id": "hd04CyW1D9Hf",
    "outputId": "14aac65b-eb33-4a38-8328-f92a2e25df29"
   },
   "outputs": [
    {
     "name": "stdout",
     "output_type": "stream",
     "text": [
      "##converting network to cuda-enabled\n",
      "Net(\n",
      "  (one_hot): Embedding(17770, 17770)\n",
      "  (rnn): GRU(17770, 500, batch_first=True)\n",
      "  (lin1): Linear(in_features=17770, out_features=5000, bias=False)\n",
      "  (lin2): Linear(in_features=5000, out_features=500, bias=False)\n",
      "  (l_out): Linear(in_features=500, out_features=17770, bias=False)\n",
      "  (criteria): CrossEntropyLoss()\n",
      "  (dropout): Dropout(p=0.4)\n",
      ")\n"
     ]
    }
   ],
   "source": [
    "# Define network\n",
    "output_size = 17770\n",
    "num_input = 17770\n",
    "hidden_size_rnn = 500\n",
    "hidden_size_lin1 = 5000\n",
    "\n",
    "hidden_size_lin2 = 500\n",
    "\n",
    "class Net(nn.Module):\n",
    "    def __init__(self):\n",
    "        super(Net, self).__init__()\n",
    "        \n",
    "        self.one_hot = nn.Embedding(num_input, num_input)\n",
    "        self.one_hot.weight.data = torch.eye(num_input)\n",
    "        self.one_hot.weight.detach_()\n",
    "        \n",
    "        self.rnn = GRU(input_size=num_input,\n",
    "                        hidden_size=hidden_size_rnn,\n",
    "                        num_layers=1,\n",
    "                        bidirectional=False,\n",
    "                        batch_first = True)\n",
    "        \n",
    "        self.lin1 = Linear(in_features=num_input,\n",
    "                           out_features=hidden_size_lin1,\n",
    "                           bias=False)\n",
    "        \n",
    "        \n",
    "        self.lin2 = Linear(in_features=hidden_size_lin1,\n",
    "                           out_features=hidden_size_lin2,\n",
    "                           bias=False)\n",
    "        \n",
    "        self.l_out = Linear(in_features=hidden_size_rnn,\n",
    "                            out_features=output_size,\n",
    "                            bias=False)\n",
    "        \n",
    "        self.criteria = nn.CrossEntropyLoss()\n",
    "        self.dropout = nn.Dropout(p = 0.4)\n",
    "    \n",
    "    def forward(self, x):\n",
    "        out = {}\n",
    "        x = self.one_hot(x)\n",
    "        \n",
    "        x, hn = self.rnn(x)\n",
    "        \n",
    "        #x = tanh(self.lin1(x))\n",
    "        \n",
    "        #x = self.dropout(x)\n",
    "                \n",
    "        #x = tanh(self.lin2(x))\n",
    "        \n",
    "        x = self.dropout(x)\n",
    "        \n",
    "        out = self.l_out(x)\n",
    "        return out\n",
    "    \n",
    "net = Net()\n",
    "if use_cuda:\n",
    "    print('##converting network to cuda-enabled')\n",
    "    net.cuda()\n",
    "print(net)"
   ]
  },
  {
   "cell_type": "code",
   "execution_count": 8,
   "metadata": {
    "colab": {
     "base_uri": "https://localhost:8080/",
     "height": 167
    },
    "colab_type": "code",
    "executionInfo": {
     "elapsed": 60061,
     "status": "ok",
     "timestamp": 1546458621002,
     "user": {
      "displayName": "Ognjen Jovanovic",
      "photoUrl": "",
      "userId": "00294620466370050010"
     },
     "user_tz": -60
    },
    "id": "eetzO83QD9Hl",
    "outputId": "3aa8d7fe-1109-45f7-cd35-429c6bfbfcb5"
   },
   "outputs": [
    {
     "data": {
      "text/plain": [
       "{'l_out.weight': True,\n",
       " 'lin1.weight': True,\n",
       " 'lin2.weight': True,\n",
       " 'one_hot.weight': False,\n",
       " 'rnn.bias_hh_l0': True,\n",
       " 'rnn.bias_ih_l0': True,\n",
       " 'rnn.weight_hh_l0': True,\n",
       " 'rnn.weight_ih_l0': True}"
      ]
     },
     "execution_count": 8,
     "metadata": {
      "tags": []
     },
     "output_type": "execute_result"
    }
   ],
   "source": [
    "{p[0]: p[1].requires_grad for p in net.named_parameters()} #checking which weigth are updated,"
   ]
  },
  {
   "cell_type": "code",
   "execution_count": 0,
   "metadata": {
    "colab": {},
    "colab_type": "code",
    "id": "KLoyUlXbD9Hq"
   },
   "outputs": [],
   "source": [
    "optimizer = optim.Adam(net.parameters(), lr=0.01)"
   ]
  },
  {
   "cell_type": "code",
   "execution_count": 10,
   "metadata": {
    "colab": {
     "base_uri": "https://localhost:8080/",
     "height": 2710
    },
    "colab_type": "code",
    "executionInfo": {
     "elapsed": 1213124,
     "status": "ok",
     "timestamp": 1546459774987,
     "user": {
      "displayName": "Ognjen Jovanovic",
      "photoUrl": "",
      "userId": "00294620466370050010"
     },
     "user_tz": -60
    },
    "id": "Dsbuay77D9Hu",
    "outputId": "bb66a57e-5e55-47b8-aff6-55275297e318"
   },
   "outputs": [
    {
     "name": "stdout",
     "output_type": "stream",
     "text": [
      "TRAIN Loss 50: tensor(7.9019, device='cuda:0', grad_fn=<DivBackward0>)\n",
      "TRAIN accuracy 0.509\n",
      "TEST accuracy 0.498\n",
      "TRAIN Loss 100: tensor(6.8548, device='cuda:0', grad_fn=<DivBackward0>)\n",
      "TRAIN accuracy 0.535\n",
      "TEST accuracy 0.524\n",
      "TRAIN Loss 150: tensor(6.5694, device='cuda:0', grad_fn=<DivBackward0>)\n",
      "TRAIN accuracy 0.551\n",
      "TEST accuracy 0.572\n",
      "TRAIN Loss 200: tensor(6.4173, device='cuda:0', grad_fn=<DivBackward0>)\n",
      "TRAIN accuracy 0.578\n",
      "TEST accuracy 0.585\n",
      "TRAIN Loss 250: tensor(6.2453, device='cuda:0', grad_fn=<DivBackward0>)\n",
      "TRAIN accuracy 0.594\n",
      "TEST accuracy 0.569\n",
      "TRAIN Loss 300: tensor(6.2522, device='cuda:0', grad_fn=<DivBackward0>)\n",
      "TRAIN accuracy 0.625\n",
      "TEST accuracy 0.581\n",
      "TRAIN Loss 350: tensor(6.1839, device='cuda:0', grad_fn=<DivBackward0>)\n",
      "TRAIN accuracy 0.606\n",
      "TEST accuracy 0.58\n",
      "TRAIN Loss 400: tensor(6.2090, device='cuda:0', grad_fn=<DivBackward0>)\n",
      "TRAIN accuracy 0.609\n",
      "TEST accuracy 0.585\n",
      "TRAIN Loss 450: tensor(6.0974, device='cuda:0', grad_fn=<DivBackward0>)\n",
      "TRAIN accuracy 0.621\n",
      "TEST accuracy 0.612\n",
      "TRAIN Loss 500: tensor(6.0561, device='cuda:0', grad_fn=<DivBackward0>)\n",
      "TRAIN accuracy 0.617\n",
      "TEST accuracy 0.605\n",
      "TRAIN Loss 550: tensor(6.1017, device='cuda:0', grad_fn=<DivBackward0>)\n",
      "TRAIN accuracy 0.613\n",
      "TEST accuracy 0.607\n",
      "TRAIN Loss 600: tensor(6.0118, device='cuda:0', grad_fn=<DivBackward0>)\n",
      "TRAIN accuracy 0.635\n",
      "TEST accuracy 0.61\n",
      "TRAIN Loss 650: tensor(6.0332, device='cuda:0', grad_fn=<DivBackward0>)\n",
      "TRAIN accuracy 0.652\n",
      "TEST accuracy 0.611\n",
      "TRAIN Loss 700: tensor(6.0432, device='cuda:0', grad_fn=<DivBackward0>)\n",
      "TRAIN accuracy 0.636\n",
      "TEST accuracy 0.61\n",
      "TRAIN Loss 750: tensor(5.9929, device='cuda:0', grad_fn=<DivBackward0>)\n",
      "TRAIN accuracy 0.627\n",
      "TEST accuracy 0.649\n",
      "TRAIN Loss 800: tensor(5.9208, device='cuda:0', grad_fn=<DivBackward0>)\n",
      "TRAIN accuracy 0.658\n",
      "TEST accuracy 0.64\n",
      "TRAIN Loss 850: tensor(5.8545, device='cuda:0', grad_fn=<DivBackward0>)\n",
      "TRAIN accuracy 0.638\n",
      "TEST accuracy 0.619\n",
      "TRAIN Loss 900: tensor(5.8660, device='cuda:0', grad_fn=<DivBackward0>)\n",
      "TRAIN accuracy 0.658\n",
      "TEST accuracy 0.623\n",
      "TRAIN Loss 950: tensor(5.9779, device='cuda:0', grad_fn=<DivBackward0>)\n",
      "TRAIN accuracy 0.656\n",
      "TEST accuracy 0.606\n",
      "TRAIN Loss 1000: tensor(5.8935, device='cuda:0', grad_fn=<DivBackward0>)\n",
      "TRAIN accuracy 0.656\n",
      "TEST accuracy 0.61\n",
      "TRAIN Loss 1050: tensor(5.9497, device='cuda:0', grad_fn=<DivBackward0>)\n",
      "TRAIN accuracy 0.645\n",
      "TEST accuracy 0.603\n",
      "TRAIN Loss 1100: tensor(5.8707, device='cuda:0', grad_fn=<DivBackward0>)\n",
      "TRAIN accuracy 0.659\n",
      "TEST accuracy 0.632\n",
      "TRAIN Loss 1150: tensor(5.8570, device='cuda:0', grad_fn=<DivBackward0>)\n",
      "TRAIN accuracy 0.65\n",
      "TEST accuracy 0.616\n",
      "TRAIN Loss 1200: tensor(5.8482, device='cuda:0', grad_fn=<DivBackward0>)\n",
      "TRAIN accuracy 0.666\n",
      "TEST accuracy 0.636\n",
      "TRAIN Loss 1250: tensor(5.8381, device='cuda:0', grad_fn=<DivBackward0>)\n",
      "TRAIN accuracy 0.659\n",
      "TEST accuracy 0.642\n",
      "TRAIN Loss 1300: tensor(5.9392, device='cuda:0', grad_fn=<DivBackward0>)\n",
      "TRAIN accuracy 0.665\n",
      "TEST accuracy 0.658\n",
      "TRAIN Loss 1350: tensor(5.8792, device='cuda:0', grad_fn=<DivBackward0>)\n",
      "TRAIN accuracy 0.659\n",
      "TEST accuracy 0.66\n",
      "TRAIN Loss 1400: tensor(5.7637, device='cuda:0', grad_fn=<DivBackward0>)\n",
      "TRAIN accuracy 0.671\n",
      "TEST accuracy 0.622\n",
      "TRAIN Loss 1450: tensor(5.8301, device='cuda:0', grad_fn=<DivBackward0>)\n",
      "TRAIN accuracy 0.689\n",
      "TEST accuracy 0.612\n",
      "TRAIN Loss 1500: tensor(5.8573, device='cuda:0', grad_fn=<DivBackward0>)\n",
      "TRAIN accuracy 0.695\n",
      "TEST accuracy 0.645\n",
      "TRAIN Loss 1550: tensor(5.7609, device='cuda:0', grad_fn=<DivBackward0>)\n",
      "TRAIN accuracy 0.694\n",
      "TEST accuracy 0.624\n",
      "TRAIN Loss 1600: tensor(5.8602, device='cuda:0', grad_fn=<DivBackward0>)\n",
      "TRAIN accuracy 0.689\n",
      "TEST accuracy 0.629\n",
      "TRAIN Loss 1650: tensor(5.8078, device='cuda:0', grad_fn=<DivBackward0>)\n",
      "TRAIN accuracy 0.664\n",
      "TEST accuracy 0.624\n",
      "TRAIN Loss 1700: tensor(5.7259, device='cuda:0', grad_fn=<DivBackward0>)\n",
      "TRAIN accuracy 0.714\n",
      "TEST accuracy 0.642\n",
      "TRAIN Loss 1750: tensor(5.7988, device='cuda:0', grad_fn=<DivBackward0>)\n",
      "TRAIN accuracy 0.703\n",
      "TEST accuracy 0.654\n",
      "TRAIN Loss 1800: tensor(5.7535, device='cuda:0', grad_fn=<DivBackward0>)\n",
      "TRAIN accuracy 0.683\n",
      "TEST accuracy 0.615\n",
      "TRAIN Loss 1850: tensor(5.7718, device='cuda:0', grad_fn=<DivBackward0>)\n",
      "TRAIN accuracy 0.678\n",
      "TEST accuracy 0.627\n",
      "TRAIN Loss 1900: tensor(5.7963, device='cuda:0', grad_fn=<DivBackward0>)\n",
      "TRAIN accuracy 0.685\n",
      "TEST accuracy 0.648\n",
      "TRAIN Loss 1950: tensor(5.8362, device='cuda:0', grad_fn=<DivBackward0>)\n",
      "TRAIN accuracy 0.7\n",
      "TEST accuracy 0.656\n",
      "TRAIN Loss 2000: tensor(5.8316, device='cuda:0', grad_fn=<DivBackward0>)\n",
      "TRAIN accuracy 0.686\n",
      "TEST accuracy 0.632\n",
      "TRAIN Loss 2050: tensor(5.8599, device='cuda:0', grad_fn=<DivBackward0>)\n",
      "TRAIN accuracy 0.69\n",
      "TEST accuracy 0.622\n",
      "TRAIN Loss 2100: tensor(5.7339, device='cuda:0', grad_fn=<DivBackward0>)\n",
      "TRAIN accuracy 0.725\n",
      "TEST accuracy 0.624\n",
      "TRAIN Loss 2150: tensor(5.7343, device='cuda:0', grad_fn=<DivBackward0>)\n",
      "TRAIN accuracy 0.713\n",
      "TEST accuracy 0.639\n",
      "TRAIN Loss 2200: tensor(5.7893, device='cuda:0', grad_fn=<DivBackward0>)\n",
      "TRAIN accuracy 0.702\n",
      "TEST accuracy 0.625\n",
      "TRAIN Loss 2250: tensor(5.7321, device='cuda:0', grad_fn=<DivBackward0>)\n",
      "TRAIN accuracy 0.698\n",
      "TEST accuracy 0.676\n",
      "TRAIN Loss 2300: tensor(5.6723, device='cuda:0', grad_fn=<DivBackward0>)\n",
      "TRAIN accuracy 0.706\n",
      "TEST accuracy 0.633\n",
      "TRAIN Loss 2350: tensor(5.7784, device='cuda:0', grad_fn=<DivBackward0>)\n",
      "TRAIN accuracy 0.723\n",
      "TEST accuracy 0.646\n",
      "TRAIN Loss 2400: tensor(5.7087, device='cuda:0', grad_fn=<DivBackward0>)\n",
      "TRAIN accuracy 0.727\n",
      "TEST accuracy 0.648\n"
     ]
    }
   ],
   "source": [
    "# Train and validation loop\n",
    "batch_size = 50\n",
    "net.train()\n",
    "counter = 0\n",
    "temp = 0\n",
    "\n",
    "train_accuracy = []\n",
    "test_accuracy = []\n",
    "train_loss = []\n",
    "\n",
    "for i in np.random.choice(len(seq_train)//batch_size,len(seq_train)//batch_size, replace=False):\n",
    "    net.train()\n",
    "    batch = seq_train[i*batch_size:(i+1)*batch_size]\n",
    "    batch_length = seq_length_train[i*batch_size:(i+1)*batch_size]\n",
    "    batch_label = lab_train[i*batch_size:(i+1)*batch_size]\n",
    "    \n",
    "    # Cutting the data to use only the last 20 movies of the sequence\n",
    "    min_len_batch = min(batch_length)\n",
    "    batch = np.array([item[-20:] for item in batch]) \n",
    "    batch_label = np.array([item[-20:] for item in batch_label])\n",
    "    batch = torch.from_numpy(batch).long()\n",
    "    batch_label = torch.from_numpy(batch_label).long()\n",
    "    if use_cuda:\n",
    "        batch = Variable(batch.cuda())\n",
    "        batch_label = Variable(batch_label.cuda())\n",
    "    output = net(batch)\n",
    "    batch_loss = net.criteria(output.view(-1,output_size),batch_label.view(-1))\n",
    "    temp = temp + batch_loss\n",
    "    counter += 1\n",
    "    every = 50\n",
    "    if counter%every ==0:\n",
    "        print('TRAIN Loss'+' '+str(counter)+':',temp/every)\n",
    "        train_loss.append(temp/every)\n",
    "\n",
    "        temp = 0\n",
    "\n",
    "    optimizer.zero_grad()\n",
    "    batch_loss.backward()\n",
    "    optimizer.step()    \n",
    "    \n",
    "    # Train accuracy on rand_sample users from the training sequence \n",
    "    \n",
    "    rand_samples = 1000\n",
    "    if (counter % every) == 0:\n",
    "        net.eval()\n",
    "        count_train = 0\n",
    "        good_train = 0\n",
    "        with torch.no_grad():\n",
    "            for user_train_idx in np.random.choice(range(len(seq_train)), rand_samples, replace = False):\n",
    "                user_train = seq_train[user_train_idx]\n",
    "                inputs_train = torch.from_numpy(np.array(user_train[-20:-5],dtype=float)).long()\n",
    "                if use_cuda:\n",
    "                    inputs_train = Variable(inputs_train.cuda())\n",
    "                labels_train = user_train[-5:]\n",
    "                inputs_train = inputs_train.view(1,inputs_train.size()[0])\n",
    "                outputs_train = net(inputs_train)\n",
    "                out_train = softmax(outputs_train[:,-1,:],dim=1).cpu().numpy().reshape(-1)\n",
    "\n",
    "                top20_train = np.argsort(out_train)[-20:]\n",
    "                okay_train = np.any([movie in labels_train for movie in top20_train])\n",
    "                count_train += 1\n",
    "                if okay_train:\n",
    "                  good_train +=1\n",
    "            print('TRAIN accuracy', good_train/rand_samples)\n",
    "            train_accuracy.append(good_train/rand_samples)\n",
    "    \n",
    "    \n",
    "    \n",
    "    # Test Accuracy on rand_sample users from the test sequence\n",
    "    #every_test = 50\n",
    "    if (counter % every) == 0:\n",
    "        net.eval()\n",
    "        count_test = 0\n",
    "        good_test = 0\n",
    "        with torch.no_grad():\n",
    "            for user_test_idx in np.random.choice(range(len(seq_test)),rand_samples, replace = False):\n",
    "                user_test = seq_test[user_test_idx]\n",
    "                inputs_test = torch.from_numpy(np.array(user_test[-20:-5],dtype=float)).long()\n",
    "                if use_cuda:\n",
    "                    inputs_test = Variable(inputs_test.cuda())\n",
    "                labels_test = user_test[-5:]\n",
    "                inputs_test = inputs_test.view(1,inputs_test.size()[0])\n",
    "                outputs_test = net(inputs_test)\n",
    "                out_test = softmax(outputs_test[:,-1,:],dim=1).cpu().numpy().reshape(-1)\n",
    "\n",
    "                top20_test = np.argsort(out_test)[-20:]\n",
    "                okay_test = np.any([movie in labels_test for movie in top20_test])\n",
    "                count_test += 1\n",
    "                if okay_test:\n",
    "                    good_test +=1\n",
    "            print('TEST accuracy', good_test/rand_samples)\n",
    "            test_accuracy.append(good_test/rand_samples)\n"
   ]
  },
  {
   "cell_type": "code",
   "execution_count": 11,
   "metadata": {
    "colab": {
     "base_uri": "https://localhost:8080/",
     "height": 597
    },
    "colab_type": "code",
    "executionInfo": {
     "elapsed": 1443017,
     "status": "ok",
     "timestamp": 1546460005504,
     "user": {
      "displayName": "Ognjen Jovanovic",
      "photoUrl": "",
      "userId": "00294620466370050010"
     },
     "user_tz": -60
    },
    "id": "EQTK736JD9H8",
    "outputId": "843fd77f-02d1-4a94-8e4a-af2f2aaa9d6b"
   },
   "outputs": [
    {
     "name": "stdout",
     "output_type": "stream",
     "text": [
      "0\n",
      "1000\n",
      "2000\n",
      "3000\n",
      "4000\n",
      "5000\n",
      "6000\n",
      "7000\n",
      "8000\n",
      "9000\n",
      "10000\n",
      "11000\n",
      "12000\n",
      "13000\n",
      "14000\n",
      "15000\n",
      "16000\n",
      "17000\n",
      "18000\n",
      "19000\n",
      "20000\n",
      "21000\n",
      "22000\n",
      "23000\n",
      "24000\n",
      "25000\n",
      "26000\n",
      "27000\n",
      "28000\n",
      "29000\n",
      "0.6430834917775776\n"
     ]
    }
   ],
   "source": [
    "# Evaluating the performance of the network using the whole test sequence\n",
    "net.eval()\n",
    "count = 0\n",
    "good = 0\n",
    "with torch.no_grad():\n",
    "  for user in seq_test:\n",
    "    \n",
    "      inputs = torch.from_numpy(np.array(user[-20:-5],dtype=float)).long()\n",
    "      if use_cuda:\n",
    "          inputs = Variable(inputs.cuda())\n",
    "      labels = user[-5:]\n",
    "      inputs = inputs.view(1,inputs.size()[0])\n",
    "      outputs = net(inputs)\n",
    "      out = softmax(outputs[:,-1,:],dim=1).cpu().numpy().reshape(-1)\n",
    "      #print(outputs.min(),outputs.max(),outputs.sum())\n",
    "      #print(np.argmax(outputs))\n",
    "      top20 = np.argsort(out)[-20:]\n",
    "      okay = np.any([movie in labels for movie in top20])\n",
    "      if count%1000==0:\n",
    "        print(count)\n",
    "      count += 1\n",
    "      if okay:\n",
    "        good +=1\n",
    "print(good/count)"
   ]
  },
  {
   "cell_type": "code",
   "execution_count": 12,
   "metadata": {
    "colab": {
     "base_uri": "https://localhost:8080/",
     "height": 363
    },
    "colab_type": "code",
    "executionInfo": {
     "elapsed": 1444228,
     "status": "ok",
     "timestamp": 1546460007326,
     "user": {
      "displayName": "Ognjen Jovanovic",
      "photoUrl": "",
      "userId": "00294620466370050010"
     },
     "user_tz": -60
    },
    "id": "1J00S7CoVGhN",
    "outputId": "04844427-06c3-4da3-d44e-94b31c63fcf1"
   },
   "outputs": [
    {
     "data": {
      "image/png": "[encoded data removed]",
      "text/plain": [
       "<matplotlib.figure.Figure at 0x7f26ce8b8278>"
      ]
     },
     "metadata": {
      "tags": []
     },
     "output_type": "display_data"
    }
   ],
   "source": [
    "# Ploting the loss and accuracy\n",
    "fig, ax1 = plt.subplots()\n",
    "\n",
    "ax2 = ax1.twinx()\n",
    "ax1.plot(train_accuracy, 'g-',label = 'Train Accuracy')\n",
    "ax1.plot(test_accuracy, 'b-', label = 'Test Accuracy')\n",
    "ax1.legend(loc = 7)\n",
    "ax2.plot(train_loss, 'r-',label = 'Train Loss')\n",
    "ax2.legend(loc = 8)\n",
    "\n",
    "ax1.set_xlabel('x*50 batches')\n",
    "ax1.set_ylabel('Percentage', color='g')\n",
    "ax2.set_ylabel('Loss', color='b')\n",
    "\n",
    "\n",
    "\n",
    "plt.savefig('data1_500.png')\n",
    "files.download(\"data1_500.png\") "
   ]
  },
  {
   "cell_type": "code",
   "execution_count": 0,
   "metadata": {
    "colab": {},
    "colab_type": "code",
    "id": "6DZ8FpJO4leh"
   },
   "outputs": [],
   "source": [
    "\n"
   ]
  }
 ],
 "metadata": {
  "accelerator": "GPU",
  "colab": {
   "collapsed_sections": [],
   "name": "Project-RNN.ipynb",
   "provenance": [],
   "version": "0.3.2"
  },
  "kernelspec": {
   "display_name": "Python 3",
   "language": "python",
   "name": "python3"
  },
  "language_info": {
   "codemirror_mode": {
    "name": "ipython",
    "version": 3
   },
   "file_extension": ".py",
   "mimetype": "text/x-python",
   "name": "python",
   "nbconvert_exporter": "python",
   "pygments_lexer": "ipython3",
   "version": "3.6.3"
  }
 },
 "nbformat": 4,
 "nbformat_minor": 1
}
